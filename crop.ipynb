{
  "nbformat": 4,
  "nbformat_minor": 0,
  "metadata": {
    "colab": {
      "private_outputs": true,
      "provenance": [],
      "gpuType": "T4",
      "authorship_tag": "ABX9TyN37J8DhXRnLqBiYEZ/rEs5",
      "include_colab_link": true
    },
    "kernelspec": {
      "name": "python3",
      "display_name": "Python 3"
    },
    "language_info": {
      "name": "python"
    },
    "accelerator": "GPU"
  },
  "cells": [
    {
      "cell_type": "markdown",
      "metadata": {
        "id": "view-in-github",
        "colab_type": "text"
      },
      "source": [
        "<a href=\"https://colab.research.google.com/github/aditya16072005/weeds-crops/blob/main/crop.ipynb\" target=\"_parent\"><img src=\"https://colab.research.google.com/assets/colab-badge.svg\" alt=\"Open In Colab\"/></a>"
      ]
    },
    {
      "cell_type": "code",
      "execution_count": null,
      "metadata": {
        "id": "XPSUIEqwkl0X"
      },
      "outputs": [],
      "source": [
        "from google.colab import drive\n",
        "drive.mount('/content/drive')\n"
      ]
    },
    {
      "cell_type": "code",
      "source": [
        "import tensorflow as tf\n",
        "from tensorflow import keras\n",
        "from keras import Sequential\n",
        "from keras.layers import Dense, Conv2D, MaxPooling2D, Flatten, BatchNormalization, Dropout"
      ],
      "metadata": {
        "id": "6gJm8d5ZXAlG"
      },
      "execution_count": null,
      "outputs": []
    },
    {
      "cell_type": "code",
      "source": [
        "import os\n",
        "import shutil\n",
        "import random\n",
        "\n",
        "base_path = '/content/drive/My Drive/crops_and_weeds'\n",
        "categories = ['crops', 'weeds']\n",
        "split_ratio = 0.8  # 80% train, 20% test\n",
        "\n",
        "for category in categories:\n",
        "    source_folder = os.path.join(base_path, category)\n",
        "    train_folder = os.path.join(base_path, 'train', category)\n",
        "    test_folder = os.path.join(base_path, 'test', category)\n",
        "\n",
        "    # Create destination directories if they don't exist\n",
        "    os.makedirs(train_folder, exist_ok=True)\n",
        "    os.makedirs(test_folder, exist_ok=True)\n",
        "\n",
        "    files = [f for f in os.listdir(source_folder) if f.lower().endswith('.jpg')]\n",
        "    random.shuffle(files)\n",
        "    split_idx = int(len(files) * split_ratio)\n",
        "    train_files = files[:split_idx]\n",
        "    test_files = files[split_idx:]\n",
        "\n",
        "    for f in train_files:\n",
        "        shutil.move(os.path.join(source_folder, f), os.path.join(train_folder, f))\n",
        "    for f in test_files:\n",
        "        shutil.move(os.path.join(source_folder, f), os.path.join(test_folder, f))\n"
      ],
      "metadata": {
        "id": "kYnkYNgOlOOF"
      },
      "execution_count": null,
      "outputs": []
    },
    {
      "cell_type": "code",
      "source": [
        "import shutil\n",
        "\n",
        "# Copy train and test folders from Google Drive to /content\n",
        "shutil.copytree('/content/drive/My Drive/crops_and_weeds/train', '/content/train', dirs_exist_ok=True)\n",
        "shutil.copytree('/content/drive/My Drive/crops_and_weeds/test', '/content/test', dirs_exist_ok=True)\n"
      ],
      "metadata": {
        "id": "4JzSayGWHgy2"
      },
      "execution_count": null,
      "outputs": []
    },
    {
      "cell_type": "code",
      "source": [
        "train_ds = keras.utils.image_dataset_from_directory(\n",
        "    directory='/content/train',\n",
        "    labels='inferred',\n",
        "    label_mode='int',\n",
        "    batch_size=32,\n",
        "    image_size=(256, 256)\n",
        ")\n",
        "\n",
        "validation_ds = keras.utils.image_dataset_from_directory(\n",
        "    directory='/content/test',\n",
        "    labels='inferred',\n",
        "    label_mode='int',\n",
        "    batch_size=32,\n",
        "    image_size=(256, 256)\n",
        ")\n"
      ],
      "metadata": {
        "id": "avIveffGHgmE"
      },
      "execution_count": null,
      "outputs": []
    },
    {
      "cell_type": "code",
      "source": [
        "len(os.listdir('/content/drive/My Drive/crops_and_weeds/train/crops'))\n"
      ],
      "metadata": {
        "id": "2l43Iry8lit1"
      },
      "execution_count": null,
      "outputs": []
    },
    {
      "cell_type": "code",
      "source": [
        "len(os.listdir('/content/drive/My Drive/crops_and_weeds/train/weeds'))"
      ],
      "metadata": {
        "id": "ZdctWhYJlm6_"
      },
      "execution_count": null,
      "outputs": []
    },
    {
      "cell_type": "code",
      "source": [
        "len(os.listdir('/content/drive/My Drive/crops_and_weeds/test/crops'))"
      ],
      "metadata": {
        "id": "n5r6UdhUmdEu"
      },
      "execution_count": null,
      "outputs": []
    },
    {
      "cell_type": "code",
      "source": [
        "len(os.listdir('/content/drive/My Drive/crops_and_weeds/test/weeds'))"
      ],
      "metadata": {
        "id": "ZLBBRSNnmiVl"
      },
      "execution_count": null,
      "outputs": []
    },
    {
      "cell_type": "code",
      "source": [
        "from tensorflow.keras.preprocessing.image import ImageDataGenerator\n",
        "\n",
        "train_datagen = ImageDataGenerator(\n",
        "    rotation_range=20,\n",
        "    width_shift_range=0.2,\n",
        "    height_shift_range=0.2,\n",
        "    horizontal_flip=True,\n",
        "    brightness_range=[0.8,1.2],\n",
        "    zoom_range=0.2\n",
        ")\n",
        "test_datagen = ImageDataGenerator()  # No augmentation\n",
        "\n",
        "\n",
        "train_generator = train_datagen.flow_from_directory(\n",
        "    '/content/drive/MyDrive/crops_and_weeds/train',\n",
        "    target_size=(256, 256),\n",
        "    batch_size=32,\n",
        "    class_mode='binary',\n",
        "\n",
        ")\n",
        "validation_generator = test_datagen.flow_from_directory(\n",
        "    '/content/drive/MyDrive/crops_and_weeds/test',\n",
        "    target_size=(256, 256),\n",
        "    shuffle=False,\n",
        "    batch_size=32,\n",
        "    class_mode='binary'\n",
        ")\n"
      ],
      "metadata": {
        "id": "Xnsw777fmkz9"
      },
      "execution_count": null,
      "outputs": []
    },
    {
      "cell_type": "code",
      "source": [
        "#CNN MODEL\n",
        "model = Sequential([\n",
        "\n",
        "    Conv2D(32, kernel_size=(3,3), padding='valid', activation='relu', input_shape=(256,256,3)),\n",
        "    BatchNormalization(),\n",
        "    MaxPooling2D(pool_size=(2,2), strides=2, padding='valid'),\n",
        "\n",
        "    Conv2D(64, kernel_size=(3,3), padding='valid', activation='relu'),\n",
        "    BatchNormalization(),\n",
        "    MaxPooling2D(pool_size=(2,2), strides=2, padding='valid'),\n",
        "\n",
        "    Conv2D(128, kernel_size=(3,3), padding='valid', activation='relu'),\n",
        "    BatchNormalization(),\n",
        "    MaxPooling2D(pool_size=(2,2), strides=2, padding='valid'),\n",
        "\n",
        "\n",
        "\n",
        "    Flatten(),\n",
        "    Dense(128, activation='relu'),\n",
        "    Dropout(0.3),\n",
        "    Dense(64, activation='relu'),\n",
        "    Dropout(0.3),\n",
        "    Dense(1, activation='sigmoid')\n",
        "])\n"
      ],
      "metadata": {
        "id": "_NfydBQn3cYJ"
      },
      "execution_count": null,
      "outputs": []
    },
    {
      "cell_type": "code",
      "source": [
        "model.summary()"
      ],
      "metadata": {
        "id": "2q5Ek0LhUJ_H"
      },
      "execution_count": null,
      "outputs": []
    },
    {
      "cell_type": "code",
      "source": [
        "from tensorflow.keras.optimizers import Adam\n",
        "\n",
        "optimizer = Adam(learning_rate=0.0001)  # Set your desired learning rate\n",
        "model.compile(optimizer=optimizer, loss='binary_crossentropy', metrics=['accuracy'])\n"
      ],
      "metadata": {
        "id": "Ycr4UB9wJRjg"
      },
      "execution_count": null,
      "outputs": []
    },
    {
      "cell_type": "code",
      "source": [
        "history= model.fit(\n",
        "    train_generator,\n",
        "    steps_per_epoch=100,\n",
        "    epochs=10,\n",
        "    validation_data=validation_generator,\n",
        "    validation_steps=50\n",
        ")\n"
      ],
      "metadata": {
        "id": "U8xRFwdaFuXi"
      },
      "execution_count": null,
      "outputs": []
    },
    {
      "cell_type": "code",
      "source": [
        "import matplotlib.pyplot as plt\n",
        "\n",
        "plt.plot(history.history['accuracy'], color='red', label='train')\n",
        "plt.plot(history.history['val_accuracy'], color='blue', label='validation')\n",
        "plt.legend()\n",
        "plt.show()"
      ],
      "metadata": {
        "id": "61CK1UCzgO1s"
      },
      "execution_count": null,
      "outputs": []
    },
    {
      "cell_type": "code",
      "source": [
        "plt.plot(history.history['loss'], color='red', label='train')\n",
        "plt.plot(history.history['val_loss'], color='blue', label='validation')\n",
        "plt.legend()\n",
        "plt.show()"
      ],
      "metadata": {
        "id": "HU74fGcrgSLi"
      },
      "execution_count": null,
      "outputs": []
    },
    {
      "cell_type": "code",
      "source": [
        "from tensorflow.keras.preprocessing.image import ImageDataGenerator\n",
        "\n",
        "test_datagen = ImageDataGenerator(rescale=1./255)\n",
        "\n",
        "test_generator = test_datagen.flow_from_directory(\n",
        "    '/content/test',         # <-- set this to your test data directory\n",
        "    target_size=(256, 256), # or (256, 256) to match your model input\n",
        "    batch_size=32,\n",
        "    class_mode='binary',\n",
        "    shuffle=False           # Important: do not shuffle for evaluation\n",
        ")\n"
      ],
      "metadata": {
        "id": "urtpoZGdYI5z"
      },
      "execution_count": null,
      "outputs": []
    },
    {
      "cell_type": "code",
      "source": [
        "import numpy as np\n",
        "\n",
        "# Get predictions (probabilities)\n",
        "y_pred_probs = model.predict(test_generator)\n",
        "# Convert probabilities to class labels (0 or 1)\n",
        "y_pred = (y_pred_probs > 0.5).astype(int).flatten()\n"
      ],
      "metadata": {
        "id": "5spTM7hTIG6_"
      },
      "execution_count": null,
      "outputs": []
    },
    {
      "cell_type": "code",
      "source": [
        "y_true = test_generator.classes\n"
      ],
      "metadata": {
        "id": "lBiEB2OTXzZK"
      },
      "execution_count": null,
      "outputs": []
    },
    {
      "cell_type": "code",
      "source": [
        "print(train_generator.class_indices)\n"
      ],
      "metadata": {
        "id": "KRB9O0E7YWZ5"
      },
      "execution_count": null,
      "outputs": []
    },
    {
      "cell_type": "code",
      "source": [
        "print(test_generator.class_indices)\n"
      ],
      "metadata": {
        "id": "HOlWo8TnY-Ud"
      },
      "execution_count": null,
      "outputs": []
    },
    {
      "cell_type": "code",
      "source": [
        "# Calculate class distribution\n",
        "n_crop = len(os.listdir('/content/train'))  # Update with your path\n",
        "n_weed = len(os.listdir('/content/test'))  # Update with your path\n",
        "total = n_crop + n_weed\n",
        "crop_ratio = n_crop / total\n",
        "\n",
        "print(f\"Crop images: {n_crop}, Weed images: {n_weed}\")\n",
        "print(f\"Crop ratio: {crop_ratio:.2f}, Weed ratio: {1-crop_ratio:.2f}\")\n",
        "\n",
        "# Get validation set predictions (use your validation generator)\n",
        "val_probs = model.predict(validation_generator)\n",
        "val_true = validation_generator.classes\n",
        "\n",
        "# Calculate optimal threshold using G-mean\n",
        "from sklearn.metrics import roc_curve\n",
        "import numpy as np\n",
        "\n",
        "fpr, tpr, thresholds = roc_curve(val_true, val_probs)\n",
        "gmeans = np.sqrt(tpr * (1 - fpr))\n",
        "optimal_idx = np.argmax(gmeans)\n",
        "optimal_threshold = thresholds[optimal_idx]\n",
        "\n",
        "print(f\"Optimal threshold: {optimal_threshold:.4f}\")\n",
        "\n",
        "# Apply threshold to predictions\n",
        "val_preds = (val_probs >= optimal_threshold).astype(int)\n",
        "\n",
        "# Confusion matrix with new threshold\n",
        "from sklearn.metrics import confusion_matrix, ConfusionMatrixDisplay\n",
        "import matplotlib.pyplot as plt\n",
        "\n",
        "cm = confusion_matrix(val_true, val_preds)\n",
        "print(\"Confusion Matrix with Optimal Threshold:\")\n",
        "print(cm)\n",
        "\n",
        "# Plot confusion matrix with matplotlib\n",
        "labels = ['Crop', 'Weed']\n",
        "disp = ConfusionMatrixDisplay(confusion_matrix=cm, display_labels=labels)\n",
        "disp.plot(cmap=plt.cm.Blues)\n",
        "plt.title(f'Confusion Matrix with Optimal Threshold: {optimal_threshold:.4f}')\n",
        "plt.show()\n"
      ],
      "metadata": {
        "id": "XF2-F7_lZD19"
      },
      "execution_count": null,
      "outputs": []
    },
    {
      "cell_type": "code",
      "source": [],
      "metadata": {
        "id": "492AtuYCZPAx"
      },
      "execution_count": null,
      "outputs": []
    }
  ]
}